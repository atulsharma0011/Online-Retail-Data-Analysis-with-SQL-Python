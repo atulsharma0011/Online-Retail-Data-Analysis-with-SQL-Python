{
 "cells": [
  {
   "cell_type": "markdown",
   "metadata": {},
   "source": [
    "# Online Retail App - Sample Data Analysis\n",
    "This notebook uses simulated data based on the schema of the `online_retail_app` database to generate insights using matplotlib and seaborn."
   ]
  },
  {
   "cell_type": "code",
   "execution_count": null,
   "id": "0bff659f",
   "metadata": {},
   "outputs": [],
   "source": [
    "!pip install mysql-connector-python"
   ]
  },
  {
   "cell_type": "code",
   "execution_count": null,
   "id": "dd476a40",
   "metadata": {},
   "outputs": [],
   "source": [
    "!pip install psycopg2-binary"
   ]
  },
  {
   "cell_type": "code",
   "execution_count": null,
   "id": "b99a7eb1",
   "metadata": {},
   "outputs": [],
   "source": [
    "!pip install sqlalchemy "
   ]
  },
  {
   "cell_type": "code",
   "execution_count": null,
   "id": "a5b21744",
   "metadata": {},
   "outputs": [],
   "source": [
    "cursor.execute('''\n",
    "CREATE TABLE customers (\n",
    "    customer_id TEXT PRIMARY KEY,\n",
    "    first_name TEXT,\n",
    "    last_name TEXT,\n",
    "    sign_up_on DATE,\n",
    "    last_login DATE\n",
    ")\n",
    "''')\n",
    "\n",
    "print(\"SQL connection established and table created.\")"
   ]
  },
  {
   "cell_type": "code",
   "execution_count": null,
   "metadata": {},
   "outputs": [],
   "source": [
    "import pandas as pd\n",
    "import numpy as np\n",
    "import matplotlib.pyplot as plt\n",
    "import seaborn as sns\n",
    "from datetime import datetime, timedelta\n",
    "import random\n",
    "\n",
    "# Set the style for seaborn\n",
    "sns.set(style='whitegrid')"
   ]
  },
  {
   "cell_type": "code",
   "execution_count": null,
   "metadata": {},
   "outputs": [],
   "source": [
    "n_customers = 200\n",
    "start_date = datetime(2022, 1, 1)\n",
    "customer_data = {\n",
    "    'customer_id': [f'CUST{str(i).zfill(4)}' for i in range(n_customers)],\n",
    "    'first_name': [f'Name{i}' for i in range(n_customers)],\n",
    "    'last_name': [f'Surname{i}' for i in range(n_customers)],\n",
    "    'sign_up_on': [start_date + timedelta(days=random.randint(0, 730)) for _ in range(n_customers)],\n",
    "    'last_login': [start_date + timedelta(days=random.randint(0, 730)) for _ in range(n_customers)]\n",
    "}\n",
    "customers_df = pd.DataFrame(customer_data)"
   ]
  },
  {
   "cell_type": "code",
   "execution_count": null,
   "metadata": {},
   "outputs": [],
   "source": [
    "customers_df['sign_up_month'] = customers_df['sign_up_on'].dt.to_period('M')\n",
    "signup_counts = customers_df['sign_up_month'].value_counts().sort_index()\n",
    "\n",
    "plt.figure(figsize=(12, 6))\n",
    "signup_counts.plot(kind='bar', color='skyblue')\n",
    "plt.title('Customer Sign-ups Per Month')\n",
    "plt.xlabel('Month')\n",
    "plt.ylabel('Number of Sign-ups')\n",
    "plt.xticks(rotation=45)\n",
    "plt.tight_layout()\n",
    "plt.show()"
   ]
  },
  {
   "cell_type": "code",
   "execution_count": null,
   "metadata": {},
   "outputs": [],
   "source": [
    "customers_df['days_since_last_login'] = (datetime.now() - customers_df['last_login']).dt.days\n",
    "plt.figure(figsize=(10, 6))\n",
    "sns.histplot(customers_df['days_since_last_login'], bins=30, kde=True, color='orange')\n",
    "plt.title('Distribution of Days Since Last Login')\n",
    "plt.xlabel('Days')\n",
    "plt.ylabel('Number of Customers')\n",
    "plt.tight_layout()\n",
    "plt.show()"
   ]
  }
 ],
 "metadata": {
  "kernelspec": {
   "display_name": "Python 3",
   "language": "python",
   "name": "python3"
  },
  "language_info": {
   "name": "python",
   "version": ""
  }
 },
 "nbformat": 4,
 "nbformat_minor": 5
}
